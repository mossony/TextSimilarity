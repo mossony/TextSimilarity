{
 "cells": [
  {
   "cell_type": "code",
   "execution_count": 2,
   "outputs": [
    {
     "name": "stdout",
     "output_type": "stream",
     "text": [
      "/Users/boyangwan/Desktop/ML_Projects/TextSimilarity/venv/bin/python3\n"
     ]
    }
   ],
   "source": [
    "import sys\n",
    "print(sys.executable)"
   ],
   "metadata": {
    "collapsed": false,
    "ExecuteTime": {
     "end_time": "2023-08-18T23:27:18.584685Z",
     "start_time": "2023-08-18T23:27:18.573250Z"
    }
   },
   "id": "8e431614e406546"
  },
  {
   "cell_type": "code",
   "execution_count": 7,
   "id": "initial_id",
   "metadata": {
    "collapsed": true,
    "ExecuteTime": {
     "end_time": "2023-08-18T23:34:10.393604Z",
     "start_time": "2023-08-18T23:34:10.383755Z"
    }
   },
   "outputs": [],
   "source": [
    "from transformers import BertModel, BertTokenizer, AdamW\n",
    "import torch\n",
    "import torch.nn as nn\n",
    "from datasets import load_dataset\n",
    "from tqdm import tqdm\n",
    "from torch.utils.data import DataLoader"
   ]
  },
  {
   "cell_type": "code",
   "execution_count": 15,
   "outputs": [],
   "source": [
    "data_train = load_dataset(\"stsb_multi_mt\", name=\"en\", split=\"train\")\n",
    "data_test = load_dataset(\"stsb_multi_mt\", name=\"en\", split=\"test\")\n",
    "data_dev = load_dataset(\"stsb_multi_mt\", name=\"en\", split=\"dev\")\n",
    "\n",
    "data_train = data_train.select(range(10))"
   ],
   "metadata": {
    "collapsed": false,
    "ExecuteTime": {
     "end_time": "2023-08-18T23:38:51.296529Z",
     "start_time": "2023-08-18T23:38:47.768403Z"
    }
   },
   "id": "ae7af8128246ec0e"
  },
  {
   "cell_type": "code",
   "execution_count": 16,
   "outputs": [
    {
     "name": "stdout",
     "output_type": "stream",
     "text": [
      "10 1379 1500\n",
      "A plane is taking off.\n",
      "An air plane is taking off.\n",
      "5.0\n"
     ]
    }
   ],
   "source": [
    "print(len(data_train), len(data_test), len(data_dev))\n",
    "print(data_train['sentence1'][0])\n",
    "print(data_train['sentence2'][0])\n",
    "print(data_train['similarity_score'][0])"
   ],
   "metadata": {
    "collapsed": false,
    "ExecuteTime": {
     "end_time": "2023-08-18T23:38:51.801395Z",
     "start_time": "2023-08-18T23:38:51.795175Z"
    }
   },
   "id": "96ac18ce79383423"
  },
  {
   "cell_type": "code",
   "execution_count": 17,
   "outputs": [],
   "source": [
    "class SentenceSimilarityModel(nn.Module):\n",
    "    def __init__(self, model_name):\n",
    "        super(SentenceSimilarityModel, self).__init__()\n",
    "        self.bert = BertModel.from_pretrained(model_name)\n",
    "        self.regression_head = nn.Linear(self.bert.config.hidden_size, 1)\n",
    "        \n",
    "    def forward(self, input_ids, attention_mask):\n",
    "        outputs = self.bert(input_ids=input_ids, attention_mask=attention_mask)\n",
    "        cls_output = outputs.last_hidden_state[:, 0, :]\n",
    "        sim_score = self.regression_head(cls_output)\n",
    "        return sim_score"
   ],
   "metadata": {
    "collapsed": false,
    "ExecuteTime": {
     "end_time": "2023-08-18T23:38:54.499062Z",
     "start_time": "2023-08-18T23:38:54.494924Z"
    }
   },
   "id": "d8f483e62157ac0f"
  },
  {
   "cell_type": "code",
   "execution_count": 18,
   "outputs": [],
   "source": [
    "\n",
    "# Load model and tokenizer\n",
    "model_name = 'bert-base-multilingual-cased'\n",
    "tokenizer = BertTokenizer.from_pretrained(model_name)\n",
    "model = SentenceSimilarityModel(model_name)\n",
    "\n",
    "# Assume 'sentences1' and 'sentences2' are your paired sentences\n",
    "# and 'similarity_scores' are your human-annotated similarity scores\n",
    "inputs = tokenizer(data_train['sentence1'], data_train['sentence2'], padding=True, truncation=True, return_tensors='pt')\n",
    "input_ids = inputs['input_ids']\n",
    "attention_mask = inputs['attention_mask']\n",
    "similarity_scores = torch.tensor(data_train['similarity_score'])\n",
    "\n",
    "batch_size = 32  # You can change the batch size as needed\n",
    "train_data = torch.utils.data.TensorDataset(input_ids, attention_mask, similarity_scores)\n",
    "train_loader = DataLoader(train_data, batch_size=batch_size)\n",
    "\n",
    "# Loss and Optimizer\n",
    "loss_fn = nn.MSELoss()  # Mean Squared Error Loss\n",
    "optimizer = AdamW(model.parameters(), lr=1e-5)"
   ],
   "metadata": {
    "collapsed": false,
    "ExecuteTime": {
     "end_time": "2023-08-18T23:38:56.876784Z",
     "start_time": "2023-08-18T23:38:55.516335Z"
    }
   },
   "id": "4fb86d6127de3c4f"
  },
  {
   "cell_type": "code",
   "execution_count": 19,
   "outputs": [
    {
     "name": "stderr",
     "output_type": "stream",
     "text": [
      "Epoch 1/3: 100%|██████████| 1/1 [00:00<00:00,  1.60it/s, loss=12.4]\n",
      "Epoch 2/3: 100%|██████████| 1/1 [00:00<00:00,  2.10it/s, loss=9.82]\n",
      "Epoch 3/3: 100%|██████████| 1/1 [00:00<00:00,  2.16it/s, loss=5.98]\n"
     ]
    }
   ],
   "source": [
    "num_epochs = 3\n",
    "for epoch in range(num_epochs):\n",
    "    # Inner loop for mini-batches with tqdm progress bar\n",
    "    loop = tqdm(train_loader, leave=True)  # leave=True ensures that the progress bars are replaced with new ones at each epoch\n",
    "    for batch in loop:\n",
    "        input_ids, attention_mask, labels = batch\n",
    "        model.train()\n",
    "        \n",
    "        # Forward pass\n",
    "        predicted_similarity_scores = model(input_ids, attention_mask)\n",
    "        \n",
    "        # Compute loss\n",
    "        loss = loss_fn(predicted_similarity_scores.squeeze(), labels.float())\n",
    "        \n",
    "        # Backward pass and optimization\n",
    "        optimizer.zero_grad()\n",
    "        loss.backward()\n",
    "        optimizer.step()\n",
    "        \n",
    "        # Update the progress bar description\n",
    "        loop.set_description(f'Epoch {epoch + 1}/{num_epochs}')\n",
    "        loop.set_postfix(loss=loss.item())\n"
   ],
   "metadata": {
    "collapsed": false,
    "ExecuteTime": {
     "end_time": "2023-08-18T23:38:59.112932Z",
     "start_time": "2023-08-18T23:38:57.542669Z"
    }
   },
   "id": "9c4e8d67e595e841"
  },
  {
   "cell_type": "code",
   "execution_count": 20,
   "outputs": [],
   "source": [
    "def get_similarity_score(model, sentence1, sentence2, tokenizer):\n",
    "    \"\"\"\n",
    "    Compute the similarity score for two sentences using a trained model.\n",
    "    \n",
    "    Args:\n",
    "    model (nn.Module): The trained model.\n",
    "    sentence1 (str): The first sentence.\n",
    "    sentence2 (str): The second sentence.\n",
    "    tokenizer (BertTokenizer): The tokenizer.\n",
    "    \n",
    "    Returns:\n",
    "    float: The similarity score between the two sentences.\n",
    "    \"\"\"\n",
    "    # Tokenize the sentences\n",
    "    inputs = tokenizer(sentence1, sentence2, padding=True, truncation=True, return_tensors='pt')\n",
    "    input_ids = inputs['input_ids']\n",
    "    attention_mask = inputs['attention_mask']\n",
    "    \n",
    "    # Compute similarity score\n",
    "    with torch.no_grad():  # Deactivates autograd, reduces memory usage and speeds up computations\n",
    "        sim_score = model(input_ids, attention_mask)\n",
    "    \n",
    "    # Convert the similarity score to a single float and return it\n",
    "    return sim_score.item()"
   ],
   "metadata": {
    "collapsed": false,
    "ExecuteTime": {
     "end_time": "2023-08-18T23:41:43.635069Z",
     "start_time": "2023-08-18T23:41:43.631769Z"
    }
   },
   "id": "10af71efc470c69c"
  },
  {
   "cell_type": "code",
   "execution_count": 24,
   "outputs": [
    {
     "name": "stdout",
     "output_type": "stream",
     "text": [
      "Similarity Score: 0.010244056582450867\n"
     ]
    }
   ],
   "source": [
    "model_name = 'bert-base-multilingual-cased'\n",
    "tokenizer = BertTokenizer.from_pretrained(model_name)\n",
    "model = SentenceSimilarityModel(model_name)\n",
    "model.eval()  # Set the model to evaluation mode\n",
    "\n",
    "sentence1 = \"This is a test sentence.\"\n",
    "sentence2 = \"Hello how are you? get_similarity_score\"\n",
    "similarity_score = get_similarity_score(model, sentence1, sentence2, tokenizer)\n",
    "\n",
    "print(\"Similarity Score:\", similarity_score)"
   ],
   "metadata": {
    "collapsed": false,
    "ExecuteTime": {
     "end_time": "2023-08-18T23:42:23.572842Z",
     "start_time": "2023-08-18T23:42:21.835864Z"
    }
   },
   "id": "37c5df6964530e7f"
  },
  {
   "cell_type": "code",
   "execution_count": null,
   "outputs": [],
   "source": [],
   "metadata": {
    "collapsed": false
   },
   "id": "191e147b258c8af1"
  },
  {
   "cell_type": "code",
   "execution_count": null,
   "outputs": [],
   "source": [],
   "metadata": {
    "collapsed": false
   },
   "id": "318d1200b5651a7b"
  },
  {
   "cell_type": "code",
   "execution_count": null,
   "outputs": [],
   "source": [],
   "metadata": {
    "collapsed": false
   },
   "id": "ffe5771c9817adf1"
  },
  {
   "cell_type": "code",
   "execution_count": null,
   "outputs": [],
   "source": [],
   "metadata": {
    "collapsed": false
   },
   "id": "316e3f8d6fd39357"
  },
  {
   "cell_type": "code",
   "execution_count": null,
   "outputs": [],
   "source": [],
   "metadata": {
    "collapsed": false
   },
   "id": "3e094a1dfe998c9b"
  },
  {
   "cell_type": "code",
   "execution_count": null,
   "outputs": [],
   "source": [],
   "metadata": {
    "collapsed": false
   },
   "id": "4d55d0967caf2a66"
  },
  {
   "cell_type": "code",
   "execution_count": null,
   "outputs": [],
   "source": [
    "# TODO: Expand the scale from sentence similarity to paragraph/article similartity using trained sentence model"
   ],
   "metadata": {
    "collapsed": false
   },
   "id": "43d9a56313e6d0ab"
  }
 ],
 "metadata": {
  "kernelspec": {
   "name": "envname",
   "language": "python",
   "display_name": "TextSimilarity"
  },
  "language_info": {
   "codemirror_mode": {
    "name": "ipython",
    "version": 2
   },
   "file_extension": ".py",
   "mimetype": "text/x-python",
   "name": "python",
   "nbconvert_exporter": "python",
   "pygments_lexer": "ipython2",
   "version": "2.7.6"
  }
 },
 "nbformat": 4,
 "nbformat_minor": 5
}
